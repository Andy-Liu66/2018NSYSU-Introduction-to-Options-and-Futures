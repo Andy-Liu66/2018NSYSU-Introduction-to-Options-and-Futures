{
 "cells": [
  {
   "cell_type": "markdown",
   "metadata": {},
   "source": [
    "## Tutorial 3 - Class methods and Static methods"
   ]
  },
  {
   "cell_type": "markdown",
   "metadata": {},
   "source": [
    "This tutorial will talk about regular method, class method, static method. (The idea of regular method actually had been taught in tutorial 2, so this tutorial are going to focus on class method and static method)"
   ]
  },
  {
   "cell_type": "markdown",
   "metadata": {},
   "source": [
    "### Regular method \n",
    "Regular method in a class automatically take the instance as the first argument, by convention we call it \"self\", just like the *what_company* method below:"
   ]
  },
  {
   "cell_type": "code",
   "execution_count": 1,
   "metadata": {
    "collapsed": true
   },
   "outputs": [],
   "source": [
    "class Worksheet:\n",
    "    \n",
    "    Company_Code = 6666\n",
    "    \n",
    "    def __init__(self, W, K, Vol, r, T):\n",
    "        self.W = W\n",
    "        self.K = K\n",
    "        self.Vol = Vol\n",
    "        self.r = r\n",
    "        self.T = T\n",
    "        \n",
    "    def what_company(self):\n",
    "        print(self.Company_Code) "
   ]
  },
  {
   "cell_type": "code",
   "execution_count": 2,
   "metadata": {},
   "outputs": [
    {
     "name": "stdout",
     "output_type": "stream",
     "text": [
      "6666\n"
     ]
    }
   ],
   "source": [
    "test = Worksheet(1, 2, 3, 4, 5)\n",
    "test.what_company()"
   ]
  },
  {
   "cell_type": "markdown",
   "metadata": {},
   "source": [
    "### Class method\n",
    "Class method automatically pass in the class as first argument and we call it \"cls\", just like the *set_company_code method* below:"
   ]
  },
  {
   "cell_type": "code",
   "execution_count": 3,
   "metadata": {
    "collapsed": true
   },
   "outputs": [],
   "source": [
    "class Worksheet:\n",
    "    \n",
    "    Company_Code = 6666\n",
    "    \n",
    "    def __init__(self, W, K, Vol, r, T):\n",
    "        self.W = W\n",
    "        self.K = K\n",
    "        self.Vol = Vol\n",
    "        self.r = r\n",
    "        self.T = T\n",
    "        \n",
    "    @classmethod #Class method decorator, altering the functionality of mehtod that we receive class as our first argument instead of the instance.\n",
    "    def set_company_code(cls, company_code): #By convention, we use \"cls\" in class variable, just like we use \"self\" in instance variable.\n",
    "        cls.Company_Code = company_code"
   ]
  },
  {
   "cell_type": "code",
   "execution_count": 4,
   "metadata": {},
   "outputs": [
    {
     "data": {
      "text/plain": [
       "6666"
      ]
     },
     "execution_count": 4,
     "metadata": {},
     "output_type": "execute_result"
    }
   ],
   "source": [
    "Worksheet.Company_Code"
   ]
  },
  {
   "cell_type": "code",
   "execution_count": 5,
   "metadata": {},
   "outputs": [
    {
     "data": {
      "text/plain": [
       "7777"
      ]
     },
     "execution_count": 5,
     "metadata": {},
     "output_type": "execute_result"
    }
   ],
   "source": [
    "Worksheet.set_company_code(7777) #We don't need to pass in \"cls\", because in class method it take class as first argument.\n",
    "Worksheet.Company_Code #So we can set our company code in this way"
   ]
  },
  {
   "cell_type": "code",
   "execution_count": 6,
   "metadata": {},
   "outputs": [
    {
     "data": {
      "text/plain": [
       "8888"
      ]
     },
     "execution_count": 6,
     "metadata": {},
     "output_type": "execute_result"
    }
   ],
   "source": [
    "Worksheet.Company_Code = 8888 #It is the asme as using class method above.\n",
    "Worksheet.Company_Code"
   ]
  },
  {
   "cell_type": "code",
   "execution_count": 7,
   "metadata": {},
   "outputs": [
    {
     "data": {
      "text/plain": [
       "8888"
      ]
     },
     "execution_count": 7,
     "metadata": {},
     "output_type": "execute_result"
    }
   ],
   "source": [
    "test = Worksheet(1, 2, 3, 4, 5)\n",
    "test.Company_Code"
   ]
  },
  {
   "cell_type": "code",
   "execution_count": 8,
   "metadata": {},
   "outputs": [
    {
     "name": "stdout",
     "output_type": "stream",
     "text": [
      "9999 9999\n"
     ]
    }
   ],
   "source": [
    "test.set_company_code(9999) #We can also run class method from the instance.\n",
    "print(test.Company_Code, Worksheet.Company_Code) #But it doesn't real make a lot of sense, you can probablly just run the method from class.."
   ]
  },
  {
   "cell_type": "code",
   "execution_count": 9,
   "metadata": {
    "collapsed": true
   },
   "outputs": [],
   "source": [
    "#Using class method as alternative constructors, you can use these class methods in order to provide multiple way to create objects.\n",
    "#For example, if we got an string that contain the data we need to parse in to the class to create an instance, \n",
    "#we can create an class method to decompose it then parse it into the class.  \n",
    "\n",
    "string_data = \"1-2-3-4-5\"\n",
    "\n",
    "class Worksheet:\n",
    "    \n",
    "    Company_Code = 6666\n",
    "    \n",
    "    def __init__(self, W, K, Vol, r, T):\n",
    "        self.W = W\n",
    "        self.K = K\n",
    "        self.Vol = Vol\n",
    "        self.r = r\n",
    "        self.T = T\n",
    "        \n",
    "    @classmethod\n",
    "    def from_string(cls, input_string): #using \"cls\" is the same as using \"Worksheet\".\n",
    "        W, K, Vol, r, T = input_string.split(\"-\")\n",
    "        return cls(W, K, Vol, r, T) #need to return the object"
   ]
  },
  {
   "cell_type": "code",
   "execution_count": 10,
   "metadata": {},
   "outputs": [
    {
     "data": {
      "text/plain": [
       "'1'"
      ]
     },
     "execution_count": 10,
     "metadata": {},
     "output_type": "execute_result"
    }
   ],
   "source": [
    "test2 = Worksheet.from_string(string_data)\n",
    "test2.W #From the example above, we can know what does \"alternative constructors\" mean."
   ]
  },
  {
   "cell_type": "markdown",
   "metadata": {},
   "source": [
    "### Static method\n",
    "Won't pass anything automatically, it behave just like regular function, we include it because they have some connection with the class, just like *is_trading_day* method below:"
   ]
  },
  {
   "cell_type": "code",
   "execution_count": 11,
   "metadata": {
    "collapsed": true
   },
   "outputs": [],
   "source": [
    "class Worksheet:\n",
    "    \n",
    "    Company_Code = 6666\n",
    "    \n",
    "    def __init__(self, W, K, Vol, r, T):\n",
    "        self.W = W\n",
    "        self.K = K\n",
    "        self.Vol = Vol\n",
    "        self.r = r\n",
    "        self.T = T\n",
    "        \n",
    "    @staticmethod #need to use the static method decorator\n",
    "    def is_trading_day(day):\n",
    "        if ((day.weekday() == 5) or (day.weekday() == 6)): #we need to import package when using the function from package\n",
    "            return False     #5, 6 mean Saturday and Sunday\n",
    "        else:\n",
    "            return True\n",
    "    \n",
    "import datetime"
   ]
  },
  {
   "cell_type": "code",
   "execution_count": 12,
   "metadata": {},
   "outputs": [
    {
     "data": {
      "text/plain": [
       "True"
      ]
     },
     "execution_count": 12,
     "metadata": {},
     "output_type": "execute_result"
    }
   ],
   "source": [
    "test_date = datetime.date(2018, 4, 25)\n",
    "Worksheet.is_trading_day(test_date)"
   ]
  },
  {
   "cell_type": "code",
   "execution_count": 13,
   "metadata": {},
   "outputs": [
    {
     "data": {
      "text/plain": [
       "False"
      ]
     },
     "execution_count": 13,
     "metadata": {},
     "output_type": "execute_result"
    }
   ],
   "source": [
    "test_date = datetime.date(2018, 4, 22)\n",
    "Worksheet.is_trading_day(test_date)"
   ]
  },
  {
   "cell_type": "markdown",
   "metadata": {},
   "source": [
    "**A method should be a static method if you don't acess the instance or class anywhere within the function.**"
   ]
  },
  {
   "cell_type": "markdown",
   "metadata": {},
   "source": [
    "### Comparison:\n",
    "\n",
    "* Regular method : automatically pass in the instance as first argument and we call it \"self\".\n",
    "* Class method : automatically pass in the class as first argument and we call it \"cls\".\n",
    "* Static method : won't pass anything automatically, it behave just like regular function, we include it because they have some connection with the class(actually don't depend on any specific instance or class variables)."
   ]
  }
 ],
 "metadata": {
  "kernelspec": {
   "display_name": "Python 3",
   "language": "python",
   "name": "python3"
  },
  "language_info": {
   "codemirror_mode": {
    "name": "ipython",
    "version": 3
   },
   "file_extension": ".py",
   "mimetype": "text/x-python",
   "name": "python",
   "nbconvert_exporter": "python",
   "pygments_lexer": "ipython3",
   "version": "3.6.3"
  }
 },
 "nbformat": 4,
 "nbformat_minor": 2
}
