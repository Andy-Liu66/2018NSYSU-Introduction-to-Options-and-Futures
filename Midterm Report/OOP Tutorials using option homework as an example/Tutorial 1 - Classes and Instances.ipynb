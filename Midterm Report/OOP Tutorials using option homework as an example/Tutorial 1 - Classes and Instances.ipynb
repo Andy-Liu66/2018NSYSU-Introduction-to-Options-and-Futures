{
 "cells": [
  {
   "cell_type": "markdown",
   "metadata": {},
   "source": [
    "The tutorial below following **Corey Schafer**'s online courses on youtube (https://www.youtube.com/watch?v=ZDa-Z5JzLYM&list=PL-osiE80TeTsqhIuOqKhwlXsIBIdSeYtc), and I use my own Options-and-Futures class's homework (when studying in NSYSU) as an example. Trying to rewrite the  original code in OOP way. Original code:"
   ]
  },
  {
   "cell_type": "code",
   "execution_count": 1,
   "metadata": {
    "collapsed": true
   },
   "outputs": [],
   "source": [
    "# weekly_price = pd.read_csv(\"Weekly_Price.csv\")\n",
    "\n",
    "#Initial Parameter\n",
    "W = 1000000\n",
    "K = 41\n",
    "Vol = 0.5137\n",
    "r = 0.01035\n",
    "T = 20 #Weeks\n",
    "\n",
    "def Black_Schole_Call(stock_price, K, Vol, r, T):\n",
    "    if T > 0:\n",
    "        d1 = (np.log(stock_price / K) + (r + 0.5 * (Vol**2)) * T) / (Vol * np.sqrt(T))\n",
    "        d2 = d1 - Vol * np.sqrt(T)       \n",
    "    else:  \n",
    "        if stock_price >= K:\n",
    "            d1 = 99999\n",
    "            d2 = d1 - Vol * np.sqrt(T)\n",
    "        else:\n",
    "            d1 = -99999\n",
    "            d2 = d1 - Vol * np.sqrt(T)\n",
    "    Call = stock_price * norm.cdf(d1) - np.exp(-r * T) * K * norm.cdf(d2)\n",
    "    return(Call)\n",
    "\n",
    "\n",
    "def Delta(stock_price, K, Vol, r, T):   \n",
    "    if T > 0:\n",
    "        d1 = (np.log(stock_price / K) + (r + 0.5 * (Vol**2)) * T) / (Vol * np.sqrt(T))   \n",
    "    else:   \n",
    "        if stock_price >= K:\n",
    "            d1 = 99999   \n",
    "        else:\n",
    "            d1 = -99999\n",
    "    return(norm.cdf(d1))\n",
    "\n",
    "\n",
    "def Calculate_Cost(data):\n",
    "    data[\"Interest_expense\"] = np.zeros(len(data))\n",
    "    data[\"Cumulative_Cost\"] = np.zeros(len(data))\n",
    "\n",
    "    for i in range(len(data)):\n",
    "        if i == 0:\n",
    "            data[\"Cumulative_Cost\"][i] = data[\"Cost_of_Share\"][i]\n",
    "            data[\"Interest_expense\"][i] = data[\"Cumulative_Cost\"][i] * (r * 1/52)\n",
    "        else:\n",
    "            data[\"Cumulative_Cost\"][i] = data[\"Cumulative_Cost\"][i - 1] + data[\"Cost_of_Share\"][i] + data[\"Interest_expense\"][i- 1]\n",
    "            data[\"Interest_expense\"][i] = data[\"Cumulative_Cost\"][i] * (r * 1/52)\n",
    "            \n",
    "            \n",
    "def Calculate_Profit(data):\n",
    "    Total_Income = (data[\"Call_Price_BS\"][0] * W * (1 + (r * T / 52)))\n",
    "    \n",
    "    if (data[\"Weekly_Price\"][len(data) - 1]) >= K:\n",
    "        Total_Cost = data.Cumulative_Cost[len(data) - 1] + data.Interest_expense[len(data) - 1] - (K * W)\n",
    "    else:\n",
    "        Total_Cost = data.Cumulative_Cost[len(data) - 1] + data.Interest_expense[len(data) - 1]\n",
    "    \n",
    "    Profit = Total_Income - Total_Cost\n",
    "    return(Profit)\n",
    "\n",
    "\n",
    "def Final_Result(K, Vol):\n",
    "    weekly_price = pd.read_csv(\"Weekly_Price.csv\")\n",
    "    weekly_price[\"Expiration\"] = pd.Series(range(T,  -1, -1)) / 52 #52 weeks == 1 year\n",
    "    weekly_price[\"Call_Price_BS\"] = weekly_price.apply(lambda x: Black_Schole_Call(x[\"Weekly_Price\"], K, Vol, r, x[\"Expiration\"]), axis = 1)\n",
    "    weekly_price[\"Delta\"] = weekly_price.apply(lambda x: Delta(x[\"Weekly_Price\"], K, Vol, r, x[\"Expiration\"]), axis = 1)\n",
    "    weekly_price[\"Share_Netural\"] = W * weekly_price[\"Delta\"]\n",
    "    weekly_price[\"Share_Purchased\"] = weekly_price[\"Share_Netural\"].diff(1)\n",
    "    weekly_price[\"Share_Purchased\"].values[0] = weekly_price[\"Share_Netural\"][0]\n",
    "    weekly_price[\"Cost_of_Share\"] = weekly_price[\"Share_Purchased\"] * weekly_price[\"Weekly_Price\"]\n",
    "    Calculate_Cost(weekly_price)\n",
    "    return(Calculate_Profit(weekly_price))"
   ]
  },
  {
   "cell_type": "markdown",
   "metadata": {},
   "source": [
    "## Python OOP Tutorial 1: Classes and Instances"
   ]
  },
  {
   "cell_type": "markdown",
   "metadata": {},
   "source": [
    "> Why OOP?\n",
    "* Allow us to logically group our data and functions in a way that is easy to reuse and also to build upon if needed.\n",
    "* Class is basically a blueprint for creating instance, so each instance will contain attribute and method from that class.\n",
    "* Instance variables contain data that is unique to each instance.\n",
    "* **Each method within a class automatically takes instance as first argunment(by convention we should call the instance \"self\").**\n",
    "* After creating \"self\" we can specify what other arguments that we want to accept. Within the `__init__`method we should set all instance variables we want. e.g.\n",
    "```\n",
    "class Worksheet:\n",
    "    def __init__(self, W, K, Vol, r, T):\n",
    "        self.W = W\n",
    "        self.K = K\n",
    "        self.Vol = Vol\n",
    "        self.r = r\n",
    "        self.T = T\n",
    "```\n",
    "the code above is the same as below:\n",
    "```\n",
    "class Worksheet:\n",
    "    pass  \n",
    "Worksheet.W = W (W is a number)\n",
    "Worksheet.K = K (K is a number)\n",
    ".\n",
    ".\n",
    ".\n",
    "```\n",
    "From the contrast above, we can find that when we create an object, we don't need to assign attribute manually, we just need to create an instance and fill in the variables we want.\n",
    "* When creating an instance of a class, the \"init\" method will run automatically. For example:\n",
    "```\n",
    "Testing_Worksheet = Worksheet(1, 2, 3, 4, 5)\n",
    "```\n",
    "The number pass into Worksheet() is W, K, Vol, r, T sequentially. Note that we don't need to actully put in the \"self\" variable, because when creating the instance \"Testing_Worksheet\" itself will be passed in as \"self\". And then it will set all the attribute in \"init\" method(W, K, Vol, r, T)."
   ]
  }
 ],
 "metadata": {
  "kernelspec": {
   "display_name": "Python 3",
   "language": "python",
   "name": "python3"
  },
  "language_info": {
   "codemirror_mode": {
    "name": "ipython",
    "version": 3
   },
   "file_extension": ".py",
   "mimetype": "text/x-python",
   "name": "python",
   "nbconvert_exporter": "python",
   "pygments_lexer": "ipython3",
   "version": "3.6.3"
  }
 },
 "nbformat": 4,
 "nbformat_minor": 2
}
