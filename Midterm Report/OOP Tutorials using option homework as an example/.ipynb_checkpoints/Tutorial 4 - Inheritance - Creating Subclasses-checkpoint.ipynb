{
 "cells": [
  {
   "cell_type": "markdown",
   "metadata": {},
   "source": [
    "##  Tutorial 4: Inheritance - Creating Subclasses\n",
    "* Inheritance allow us to inherit attributes and method from a parent class.\n",
    "* We can overwrite or add completely new functionality without affecting the parent calss."
   ]
  },
  {
   "cell_type": "code",
   "execution_count": 1,
   "metadata": {
    "collapsed": true
   },
   "outputs": [],
   "source": [
    "class Worksheet_Black_Schole:\n",
    "    \n",
    "    Company_Code = 6666\n",
    "    \n",
    "    def __init__(self, W, K, Vol, r, T):\n",
    "        self.W = W\n",
    "        self.K = K\n",
    "        self.Vol = Vol\n",
    "        self.r = r\n",
    "        self.T = T\n",
    "        \n",
    "    def what_company(self):\n",
    "        print(self.Company_Code) \n",
    "        \n",
    "class Worksheet_Binomial(Worksheet_Black_Schole):\n",
    "        pass"
   ]
  },
  {
   "cell_type": "code",
   "execution_count": 2,
   "metadata": {},
   "outputs": [
    {
     "name": "stdout",
     "output_type": "stream",
     "text": [
      "1 1\n"
     ]
    }
   ],
   "source": [
    "test1 = Worksheet_Binomial(1, 2, 3, 4, 5)\n",
    "test2 = Worksheet_Black_Schole(1, 2, 3, 4, 5)\n",
    "print(test1.W, test2.W) #now Worksheet_Binomial have the same attributes and methods that Worksheet_Black_Schole has."
   ]
  },
  {
   "cell_type": "markdown",
   "metadata": {},
   "source": [
    "Actually this is not a good example to explain how inheritance work, because I can just write another function in the origin Worksheet class, so I am going to use the example that **Corey Schafer** provided in the video."
   ]
  },
  {
   "cell_type": "markdown",
   "metadata": {},
   "source": [
    "### Inheritance"
   ]
  },
  {
   "cell_type": "code",
   "execution_count": 3,
   "metadata": {
    "collapsed": true
   },
   "outputs": [],
   "source": [
    "class Employee:\n",
    "    \n",
    "    raise_amount = 1.04\n",
    "    \n",
    "    def __init__(self, first, last, pay):\n",
    "        self.first = first\n",
    "        self.last = last\n",
    "        self.pay = pay\n",
    "        \n",
    "    def fullname(self):\n",
    "        return \"{} {}\".format(self.first, self.last)\n",
    "    \n",
    "    def apply_raise(self):\n",
    "        self.pay = int(self.pay * self.raise_amount)\n",
    "        \n",
    "class Developer(Employee):\n",
    "    pass"
   ]
  },
  {
   "cell_type": "code",
   "execution_count": 4,
   "metadata": {},
   "outputs": [
    {
     "name": "stdout",
     "output_type": "stream",
     "text": [
      "Andy Liu Howard Ho\n"
     ]
    }
   ],
   "source": [
    "dev_1 = Employee(\"Andy\", \"Liu\", 500000)\n",
    "dev_2 = Developer(\"Howard\", \"Ho\", 600000)\n",
    "print(dev_1.fullname(), dev_2.fullname())\n",
    "#Now we can access the attributes and method from the parent class Employee."
   ]
  },
  {
   "cell_type": "markdown",
   "metadata": {},
   "source": [
    "When we instantiate developer, it will first look in Developer class for `__init__` method, and it's not going to find it within Developer class because it's currently empty. Then Python is going to walk up the chain of inheritance until it finds what it's looking for. This chain is called \"the method resolution order\"."
   ]
  },
  {
   "cell_type": "code",
   "execution_count": 5,
   "metadata": {
    "scrolled": false
   },
   "outputs": [
    {
     "name": "stdout",
     "output_type": "stream",
     "text": [
      "Help on class Developer in module __main__:\n",
      "\n",
      "class Developer(Employee)\n",
      " |  Method resolution order:\n",
      " |      Developer\n",
      " |      Employee\n",
      " |      builtins.object\n",
      " |  \n",
      " |  Methods inherited from Employee:\n",
      " |  \n",
      " |  __init__(self, first, last, pay)\n",
      " |      Initialize self.  See help(type(self)) for accurate signature.\n",
      " |  \n",
      " |  apply_raise(self)\n",
      " |  \n",
      " |  fullname(self)\n",
      " |  \n",
      " |  ----------------------------------------------------------------------\n",
      " |  Data descriptors inherited from Employee:\n",
      " |  \n",
      " |  __dict__\n",
      " |      dictionary for instance variables (if defined)\n",
      " |  \n",
      " |  __weakref__\n",
      " |      list of weak references to the object (if defined)\n",
      " |  \n",
      " |  ----------------------------------------------------------------------\n",
      " |  Data and other attributes inherited from Employee:\n",
      " |  \n",
      " |  raise_amount = 1.04\n",
      "\n"
     ]
    }
   ],
   "source": [
    "help(Developer) \n",
    "#We can find Method resolution order below: python will first look at Developer class then Employee class, and finally bultins.object."
   ]
  },
  {
   "cell_type": "markdown",
   "metadata": {},
   "source": [
    "### Changing variables in subclass"
   ]
  },
  {
   "cell_type": "markdown",
   "metadata": {},
   "source": [
    "For example, if we want to change the raise_amount which inherited from Employee."
   ]
  },
  {
   "cell_type": "code",
   "execution_count": 6,
   "metadata": {},
   "outputs": [
    {
     "name": "stdout",
     "output_type": "stream",
     "text": [
      "600000\n",
      "624000\n"
     ]
    }
   ],
   "source": [
    "print(dev_2.pay)\n",
    "dev_2.apply_raise()\n",
    "print(dev_2.pay) \n",
    "#dev_2 use the raise_amount 1.04 inherite from Employee, but we can change it directly in Developer class."
   ]
  },
  {
   "cell_type": "code",
   "execution_count": 7,
   "metadata": {},
   "outputs": [
    {
     "name": "stdout",
     "output_type": "stream",
     "text": [
      "600000\n",
      "660000\n"
     ]
    }
   ],
   "source": [
    "class Developer(Employee):\n",
    "    raise_amount = 1.1 #change here.\n",
    "    \n",
    "dev_2 = Developer(\"Howard\", \"Ho\", 600000)\n",
    "\n",
    "print(dev_2.pay)\n",
    "dev_2.apply_raise()\n",
    "print(dev_2.pay) #raise_amount become 1.1"
   ]
  },
  {
   "cell_type": "code",
   "execution_count": 8,
   "metadata": {},
   "outputs": [
    {
     "name": "stdout",
     "output_type": "stream",
     "text": [
      "500000\n",
      "520000\n"
     ]
    }
   ],
   "source": [
    "dev_1 = Employee(\"Andy\", \"Liu\", 500000)\n",
    "\n",
    "print(dev_1.pay)\n",
    "dev_1.apply_raise()\n",
    "print(dev_1.pay) #and the instance create from Employee, it's raise_amount is still 1.04"
   ]
  },
  {
   "cell_type": "markdown",
   "metadata": {},
   "source": [
    "From above we can find that changing the subclass won't have any affect on parent class."
   ]
  },
  {
   "cell_type": "markdown",
   "metadata": {},
   "source": [
    "### Creating new attribute"
   ]
  },
  {
   "cell_type": "markdown",
   "metadata": {},
   "source": [
    "For example, if we want to create a new attribute \"prog_lang\" to store developer's ability of programming language."
   ]
  },
  {
   "cell_type": "code",
   "execution_count": 9,
   "metadata": {
    "collapsed": true
   },
   "outputs": [],
   "source": [
    "class Developer(Employee):\n",
    "    raise_amount = 1.\n",
    "    \n",
    "    def __init__(self, first, last, pay, prog_lang):\n",
    "        super().__init__(first, last, pay) \n",
    "        #We can use attribute from parent class, but to code in this way it means that we only inherit one parent class.\n",
    "        \n",
    "        #Employee.__init__(self, first, last, pay) #we can also code in this way\n",
    "        #if we code in this way it means that we are going to inherit from more than one parent classes.\n",
    "        #(but we still can code in this way if we only want to inherit from one parent class).\n",
    "        \n",
    "        self.prog_lang = prog_lang \n",
    "        #after inherit attributes from parent class, we need to asign the new attribute."
   ]
  },
  {
   "cell_type": "code",
   "execution_count": 10,
   "metadata": {},
   "outputs": [
    {
     "name": "stdout",
     "output_type": "stream",
     "text": [
      "Andy Liu\n"
     ]
    },
    {
     "data": {
      "text/plain": [
       "'Python'"
      ]
     },
     "execution_count": 10,
     "metadata": {},
     "output_type": "execute_result"
    }
   ],
   "source": [
    "dev_1 = Developer(\"Andy\", \"Liu\", 500000, \"Python\")\n",
    "\n",
    "print(dev_1.fullname()) #it works well with the attribute which inherit from parent class.\n",
    "dev_1.prog_lang #it also works well with new attribute created in subclass."
   ]
  },
  {
   "cell_type": "markdown",
   "metadata": {},
   "source": [
    "**Another Example**"
   ]
  },
  {
   "cell_type": "code",
   "execution_count": 11,
   "metadata": {
    "collapsed": true
   },
   "outputs": [],
   "source": [
    "class Manager(Employee):\n",
    "    \n",
    "    def __init__(self, first, last, pay, employees = None):\n",
    "        super().__init__(first, last, pay) #inherit from Employee class\n",
    "        \n",
    "        if employees is None:\n",
    "            self.employees = []\n",
    "        else:\n",
    "            self.employees = employees\n",
    "        \n",
    "    def add_employee(self, emp): #new regular method\n",
    "        if emp not in self.employees:\n",
    "            self.employees.append(emp) \n",
    "    \n",
    "    def remove_employee(self, emp): #new regular method\n",
    "        if emp in self.employees:\n",
    "            self.employees.remove(emp) \n",
    "            \n",
    "    def print_employees(self): #new regular method\n",
    "        for emp in self.employees:\n",
    "            print(\"-->\", emp.fullname())"
   ]
  },
  {
   "cell_type": "code",
   "execution_count": 12,
   "metadata": {},
   "outputs": [
    {
     "name": "stdout",
     "output_type": "stream",
     "text": [
      "Kenny Heish\n",
      "--> Andy Liu\n"
     ]
    }
   ],
   "source": [
    "dev_1 = Developer(\"Andy\", \"Liu\", 500000, \"Python\")\n",
    "\n",
    "manager = Manager(\"Kenny\", \"Heish\", 800000, [dev_1])\n",
    "\n",
    "print(manager.fullname()) #work well with attribute inherit from parent class.\n",
    "\n",
    "manager.print_employees() #also work well on its own attribute."
   ]
  },
  {
   "cell_type": "code",
   "execution_count": 13,
   "metadata": {},
   "outputs": [
    {
     "name": "stdout",
     "output_type": "stream",
     "text": [
      "--> Andy Liu\n",
      "--> Howard Ho\n"
     ]
    }
   ],
   "source": [
    "dev_2 = Developer(\"Howard\", \"Ho\", 600000, \"Python\")\n",
    "\n",
    "manager.add_employee(dev_2)\n",
    "\n",
    "manager.print_employees()"
   ]
  },
  {
   "cell_type": "code",
   "execution_count": 14,
   "metadata": {},
   "outputs": [
    {
     "name": "stdout",
     "output_type": "stream",
     "text": [
      "--> Andy Liu\n"
     ]
    }
   ],
   "source": [
    "manager.remove_employee(dev_2)\n",
    "\n",
    "manager.print_employees()"
   ]
  },
  {
   "cell_type": "markdown",
   "metadata": {},
   "source": [
    "From above we can find the reusable of code if we use subclass correctly."
   ]
  },
  {
   "cell_type": "markdown",
   "metadata": {},
   "source": [
    "**Checking realtionship among each other**"
   ]
  },
  {
   "cell_type": "code",
   "execution_count": 15,
   "metadata": {},
   "outputs": [
    {
     "data": {
      "text/plain": [
       "True"
      ]
     },
     "execution_count": 15,
     "metadata": {},
     "output_type": "execute_result"
    }
   ],
   "source": [
    "isinstance(manager, Manager)"
   ]
  },
  {
   "cell_type": "code",
   "execution_count": 16,
   "metadata": {},
   "outputs": [
    {
     "data": {
      "text/plain": [
       "True"
      ]
     },
     "execution_count": 16,
     "metadata": {},
     "output_type": "execute_result"
    }
   ],
   "source": [
    "isinstance(manager, Employee)\n",
    "#because class Manger inherit from Employee"
   ]
  },
  {
   "cell_type": "code",
   "execution_count": 17,
   "metadata": {},
   "outputs": [
    {
     "data": {
      "text/plain": [
       "False"
      ]
     },
     "execution_count": 17,
     "metadata": {},
     "output_type": "execute_result"
    }
   ],
   "source": [
    "isinstance(dev_1, Manager)\n",
    "#although Develpoer and Manager inherit from Employee, they are not part of each other's inheritance"
   ]
  },
  {
   "cell_type": "code",
   "execution_count": 18,
   "metadata": {},
   "outputs": [
    {
     "data": {
      "text/plain": [
       "True"
      ]
     },
     "execution_count": 18,
     "metadata": {},
     "output_type": "execute_result"
    }
   ],
   "source": [
    "issubclass(Developer, Employee)"
   ]
  },
  {
   "cell_type": "code",
   "execution_count": 19,
   "metadata": {},
   "outputs": [
    {
     "data": {
      "text/plain": [
       "False"
      ]
     },
     "execution_count": 19,
     "metadata": {},
     "output_type": "execute_result"
    }
   ],
   "source": [
    "issubclass(Developer, Manager)"
   ]
  },
  {
   "cell_type": "markdown",
   "metadata": {},
   "source": [
    "**Notice:**\n",
    "\n",
    "There are still 2 tutorials remains in **Corey Schafer**'s OOP courses, tutorial 5 is \"Special (Magic/Dunder) Methods\", and tutorial 6 is \"Getters, Setters, and Deleters\". I think the four tutorials I had gone through are enough for me to convert my origin code(options-and-Futures class's homework) into OOP way, so I am going to stop right here.\n",
    "\n",
    "Big shout out to **Corey Schafer** !"
   ]
  }
 ],
 "metadata": {
  "kernelspec": {
   "display_name": "Python 3",
   "language": "python",
   "name": "python3"
  },
  "language_info": {
   "codemirror_mode": {
    "name": "ipython",
    "version": 3
   },
   "file_extension": ".py",
   "mimetype": "text/x-python",
   "name": "python",
   "nbconvert_exporter": "python",
   "pygments_lexer": "ipython3",
   "version": "3.6.3"
  }
 },
 "nbformat": 4,
 "nbformat_minor": 2
}
