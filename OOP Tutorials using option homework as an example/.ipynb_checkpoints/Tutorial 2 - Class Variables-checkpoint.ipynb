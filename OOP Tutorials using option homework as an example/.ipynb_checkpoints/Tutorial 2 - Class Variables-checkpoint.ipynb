{
 "cells": [
  {
   "cell_type": "markdown",
   "metadata": {},
   "source": [
    "## Python OOP Tutorial 2: Class Variables"
   ]
  },
  {
   "cell_type": "markdown",
   "metadata": {},
   "source": [
    "* Class variables are variables that are shared among all instance of a class, while instance variables can be unique for each instance, so class variables should be the same for each instance.\n",
    "\n",
    "* When trying to acess an attribute of an instance, it will first check if the instance contains that attribute, and if it doesn't then it will see if the class or any class that it inherits from contains that attribute.\n",
    "\n",
    "* You can print out the name space by `.__dict__`. "
   ]
  },
  {
   "cell_type": "markdown",
   "metadata": {},
   "source": [
    "### Instance variables"
   ]
  },
  {
   "cell_type": "code",
   "execution_count": 1,
   "metadata": {
    "collapsed": true
   },
   "outputs": [],
   "source": [
    "class Worksheet:\n",
    "    \n",
    "    Company_Code = 6666\n",
    "    \n",
    "    def __init__(self, W, K, Vol, r, T):\n",
    "        self.W = W\n",
    "        self.K = K\n",
    "        self.Vol = Vol\n",
    "        self.r = r\n",
    "        self.T = T"
   ]
  },
  {
   "cell_type": "code",
   "execution_count": 2,
   "metadata": {},
   "outputs": [
    {
     "data": {
      "text/plain": [
       "mappingproxy({'Company_Code': 6666,\n",
       "              '__dict__': <attribute '__dict__' of 'Worksheet' objects>,\n",
       "              '__doc__': None,\n",
       "              '__init__': <function __main__.Worksheet.__init__>,\n",
       "              '__module__': '__main__',\n",
       "              '__weakref__': <attribute '__weakref__' of 'Worksheet' objects>})"
      ]
     },
     "execution_count": 2,
     "metadata": {},
     "output_type": "execute_result"
    }
   ],
   "source": [
    "Worksheet.__dict__  #We can find class Worksheet contain 'Company_Code'"
   ]
  },
  {
   "cell_type": "code",
   "execution_count": 3,
   "metadata": {},
   "outputs": [
    {
     "data": {
      "text/plain": [
       "{'K': 2, 'T': 5, 'Vol': 3, 'W': 1, 'r': 4}"
      ]
     },
     "execution_count": 3,
     "metadata": {},
     "output_type": "execute_result"
    }
   ],
   "source": [
    "test = Worksheet(1,2,3,4,5)\n",
    "test.__dict__        #However we can't find 'Company_Code' in instance \"test\""
   ]
  },
  {
   "cell_type": "code",
   "execution_count": 4,
   "metadata": {},
   "outputs": [
    {
     "data": {
      "text/plain": [
       "6666"
      ]
     },
     "execution_count": 4,
     "metadata": {},
     "output_type": "execute_result"
    }
   ],
   "source": [
    "test.Company_Code   \n",
    "#But we can still call it out form instance \"test\". \n",
    "#Because When trying to acess an attribute in an instance,\n",
    "#python will first check if the instance contains that attribute, \n",
    "#and if it doesn't then it will see if the class or any class that it inherits from contains that attribute."
   ]
  },
  {
   "cell_type": "code",
   "execution_count": 5,
   "metadata": {
    "collapsed": true
   },
   "outputs": [],
   "source": [
    "test.Company_Code = 7777   #We can create \"Company_Code\" attribute for instance \"test\"."
   ]
  },
  {
   "cell_type": "code",
   "execution_count": 6,
   "metadata": {},
   "outputs": [
    {
     "data": {
      "text/plain": [
       "{'Company_Code': 7777, 'K': 2, 'T': 5, 'Vol': 3, 'W': 1, 'r': 4}"
      ]
     },
     "execution_count": 6,
     "metadata": {},
     "output_type": "execute_result"
    }
   ],
   "source": [
    "test.__dict__   #We can now find that instance \"test\" contain \"Company_code\" attribute."
   ]
  },
  {
   "cell_type": "code",
   "execution_count": 7,
   "metadata": {
    "collapsed": true
   },
   "outputs": [],
   "source": [
    "class Worksheet:\n",
    "    \n",
    "    Company_Code = 6666\n",
    "    \n",
    "    def __init__(self, W, K, Vol, r, T):\n",
    "        self.W = W\n",
    "        self.K = K\n",
    "        self.Vol = Vol\n",
    "        self.r = r\n",
    "        self.T = T\n",
    "        \n",
    "    def what_company(self):\n",
    "        print(self.Company_Code)   \n",
    "        #NOTICE! We use \"self\".Company_code here!, the difference between \"self.\" and \"Worksheet.\" will be explained below."
   ]
  },
  {
   "cell_type": "code",
   "execution_count": 8,
   "metadata": {},
   "outputs": [
    {
     "name": "stdout",
     "output_type": "stream",
     "text": [
      "6666\n"
     ]
    }
   ],
   "source": [
    "test = Worksheet(1,2,3,4,5)\n",
    "test.what_company()"
   ]
  },
  {
   "cell_type": "code",
   "execution_count": 9,
   "metadata": {},
   "outputs": [
    {
     "data": {
      "text/plain": [
       "7777"
      ]
     },
     "execution_count": 9,
     "metadata": {},
     "output_type": "execute_result"
    }
   ],
   "source": [
    "test.Company_Code = 7777    #Create \"Company_Code\" attribute for instance \"test\".\n",
    "test.Company_Code           #Now instance \"test\"'s \"Company_Code\" become 7777."
   ]
  },
  {
   "cell_type": "code",
   "execution_count": 10,
   "metadata": {},
   "outputs": [
    {
     "name": "stdout",
     "output_type": "stream",
     "text": [
      "7777\n"
     ]
    }
   ],
   "source": [
    "test.what_company()         #As a result, instance \"test\"'s \"what_company()\" function will print out 7777.\n",
    "                            #It find \"Company_Code\" within it own name space and return before going to search the class."
   ]
  },
  {
   "cell_type": "code",
   "execution_count": 11,
   "metadata": {},
   "outputs": [
    {
     "data": {
      "text/plain": [
       "{'Company_Code': 7777, 'K': 2, 'T': 5, 'Vol': 3, 'W': 1, 'r': 4}"
      ]
     },
     "execution_count": 11,
     "metadata": {},
     "output_type": "execute_result"
    }
   ],
   "source": [
    "test.__dict__               #And instance \"test\" now contain \"Company_Code\" 7777."
   ]
  },
  {
   "cell_type": "code",
   "execution_count": 12,
   "metadata": {},
   "outputs": [
    {
     "data": {
      "text/plain": [
       "6666"
      ]
     },
     "execution_count": 12,
     "metadata": {},
     "output_type": "execute_result"
    }
   ],
   "source": [
    "Worksheet.Company_Code      #But class Worksheet's \"Company_Code\" still remain 6666."
   ]
  },
  {
   "cell_type": "code",
   "execution_count": 13,
   "metadata": {
    "collapsed": true
   },
   "outputs": [],
   "source": [
    "class Worksheet:\n",
    "    \n",
    "    Company_Code = 6666\n",
    "    \n",
    "    def __init__(self, W, K, Vol, r, T):\n",
    "        self.W = W\n",
    "        self.K = K\n",
    "        self.Vol = Vol\n",
    "        self.r = r\n",
    "        self.T = T\n",
    "        \n",
    "    def what_company(self):\n",
    "        print(Worksheet.Company_Code)   #NOTICE! We use \"self\".Company_code here!"
   ]
  },
  {
   "cell_type": "code",
   "execution_count": 14,
   "metadata": {},
   "outputs": [
    {
     "data": {
      "text/plain": [
       "6666"
      ]
     },
     "execution_count": 14,
     "metadata": {},
     "output_type": "execute_result"
    }
   ],
   "source": [
    "test2 = Worksheet(1,2,3,4,5)\n",
    "test2.Company_Code"
   ]
  },
  {
   "cell_type": "code",
   "execution_count": 15,
   "metadata": {},
   "outputs": [
    {
     "name": "stdout",
     "output_type": "stream",
     "text": [
      "6666\n"
     ]
    }
   ],
   "source": [
    "test2.what_company()"
   ]
  },
  {
   "cell_type": "code",
   "execution_count": 16,
   "metadata": {},
   "outputs": [
    {
     "data": {
      "text/plain": [
       "7777"
      ]
     },
     "execution_count": 16,
     "metadata": {},
     "output_type": "execute_result"
    }
   ],
   "source": [
    "test2.Company_Code = 7777   \n",
    "test2.Company_Code   #We create \"Company_Code\" attribute directly for instance \"test2\". So it's \"Company_Code\" should be 7777."
   ]
  },
  {
   "cell_type": "code",
   "execution_count": 17,
   "metadata": {},
   "outputs": [
    {
     "name": "stdout",
     "output_type": "stream",
     "text": [
      "6666\n"
     ]
    }
   ],
   "source": [
    "test2.what_company() #However, because we use \"print(Worksheet.Company_Code)\" in \"what_company\", \n",
    "                     #so it will still print out class Worksheet's \"Company_Code\" attribute 6666.\n",
    "                     #It only change instance \"test2\"'s \"Company_Code\" attribute, not class Worksheet's \"Company_Code\" attribute."
   ]
  },
  {
   "cell_type": "code",
   "execution_count": 18,
   "metadata": {},
   "outputs": [
    {
     "data": {
      "text/plain": [
       "6666"
      ]
     },
     "execution_count": 18,
     "metadata": {},
     "output_type": "execute_result"
    }
   ],
   "source": [
    "Worksheet.Company_Code  #Class Worksheet's \"Company_Code\" attribute remain 6666."
   ]
  },
  {
   "cell_type": "markdown",
   "metadata": {},
   "source": [
    "* So when creating \"what_company' function, if we use \"self.Company_Code\" will give us more flexibility. It also allow any subclass to overwrite that constant."
   ]
  },
  {
   "cell_type": "markdown",
   "metadata": {},
   "source": [
    "### Class variables"
   ]
  },
  {
   "cell_type": "code",
   "execution_count": 19,
   "metadata": {
    "collapsed": true
   },
   "outputs": [],
   "source": [
    "class Worksheet:\n",
    "    \n",
    "    Company_Code = 6666\n",
    "    Company_num = 0\n",
    "    \n",
    "    def __init__(self, W, K, Vol, r, T):\n",
    "        self.W = W\n",
    "        self.K = K\n",
    "        self.Vol = Vol\n",
    "        self.r = r\n",
    "        self.T = T\n",
    "        \n",
    "        Worksheet.Company_num += 1   #Each time the instance is instantiated, then class Worksheet's \"Company_num\" will +1\n",
    "        \n",
    "    def what_company(self):\n",
    "        print(self.Company_Code) "
   ]
  },
  {
   "cell_type": "code",
   "execution_count": 20,
   "metadata": {},
   "outputs": [
    {
     "data": {
      "text/plain": [
       "0"
      ]
     },
     "execution_count": 20,
     "metadata": {},
     "output_type": "execute_result"
    }
   ],
   "source": [
    "Worksheet.Company_num  #At first, Company_num is 0"
   ]
  },
  {
   "cell_type": "code",
   "execution_count": 21,
   "metadata": {},
   "outputs": [
    {
     "name": "stdout",
     "output_type": "stream",
     "text": [
      "1 1\n"
     ]
    }
   ],
   "source": [
    "test = Worksheet(1,2,3,4,5)   #We instantiate first instance\n",
    "print(Worksheet.Company_num, test.Company_num)\n",
    "#We can find that both class Worksheet, and instance \"test\" s' \"Company_num\" become 1."
   ]
  },
  {
   "cell_type": "code",
   "execution_count": 22,
   "metadata": {},
   "outputs": [
    {
     "name": "stdout",
     "output_type": "stream",
     "text": [
      "2 2 2\n"
     ]
    }
   ],
   "source": [
    "test2 = Worksheet(1,2,3,4,5)   #We instantiate second instance\n",
    "print(Worksheet.Company_num, test.Company_num,  test2.Company_num)\n",
    "#All \"Company_num\" attribute belongs to class and instance become 2"
   ]
  }
 ],
 "metadata": {
  "kernelspec": {
   "display_name": "Python 3",
   "language": "python",
   "name": "python3"
  },
  "language_info": {
   "codemirror_mode": {
    "name": "ipython",
    "version": 3
   },
   "file_extension": ".py",
   "mimetype": "text/x-python",
   "name": "python",
   "nbconvert_exporter": "python",
   "pygments_lexer": "ipython3",
   "version": "3.6.3"
  }
 },
 "nbformat": 4,
 "nbformat_minor": 2
}
