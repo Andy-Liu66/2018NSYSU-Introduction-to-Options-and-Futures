{
 "cells": [
  {
   "cell_type": "markdown",
   "metadata": {},
   "source": [
    "##  Tutorial 4: Inheritance - Creating Subclasses\n",
    "* Inheritance allow us to inherit attribues and method from a parent class.\n",
    "* We can overwrite or add completely new functionality without affecting the parent calss."
   ]
  },
  {
   "cell_type": "code",
   "execution_count": 2,
   "metadata": {},
   "outputs": [],
   "source": [
    "class Worksheet_Black_Schole:\n",
    "    \n",
    "    Company_Code = 6666\n",
    "    \n",
    "    def __init__(self, W, K, Vol, r, T):\n",
    "        self.W = W\n",
    "        self.K = K\n",
    "        self.Vol = Vol\n",
    "        self.r = r\n",
    "        self.T = T\n",
    "        \n",
    "    def what_company(self):\n",
    "        print(self.Company_Code) \n",
    "        \n",
    "class Worksheet_Binomial(Worksheet_Black_Schole):\n",
    "        pass"
   ]
  },
  {
   "cell_type": "code",
   "execution_count": 14,
   "metadata": {},
   "outputs": [
    {
     "name": "stdout",
     "output_type": "stream",
     "text": [
      "1 1\n"
     ]
    }
   ],
   "source": [
    "test1 = Worksheet_Binomial(1, 2, 3, 4, 5)\n",
    "test2 = Worksheet_Black_Schole(1, 2, 3, 4, 5)\n",
    "print(test1.W, test2.W) #now Worksheet_Binomial have the same attributes and methods that Worksheet_Black_Schole has."
   ]
  },
  {
   "cell_type": "markdown",
   "metadata": {},
   "source": [
    "Actually this is not a good example to explain how inheritance work, because I can just write another function in the origin Worksheet class, so I am going to use the example that *Corey Schafer* provided in the video."
   ]
  },
  {
   "cell_type": "code",
   "execution_count": 16,
   "metadata": {
    "collapsed": true
   },
   "outputs": [],
   "source": [
    "class Employee:\n",
    "    \n",
    "    raise_amount = 1.04\n",
    "    \n",
    "    def __init__(self, first, last, pay):\n",
    "        self.first = first\n",
    "        self.last = last\n",
    "        self.pay = pay\n",
    "        \n",
    "    def fullname(self):\n",
    "        return \"{}{}\".format(self.first, self.last)\n",
    "    \n",
    "    def apply_raise(self):\n",
    "        self.pay = int(self.pay * self.raise_amount)\n",
    "        \n",
    "class Developer(Employee):\n",
    "    pass"
   ]
  },
  {
   "cell_type": "code",
   "execution_count": 17,
   "metadata": {},
   "outputs": [
    {
     "name": "stdout",
     "output_type": "stream",
     "text": [
      "AndyLiu HowardHo\n"
     ]
    }
   ],
   "source": [
    "dev_1 = Employee(\"Andy\", \"Liu\", 500000)\n",
    "dev_2 = Developer(\"Howard\", \"Ho\", 600000)\n",
    "print(dev_1.fullname(), dev_2.fullname())\n",
    "#Now we can access the attributes and method from the parent class(Employee)"
   ]
  },
  {
   "cell_type": "markdown",
   "metadata": {},
   "source": [
    "When we instantiate developer, it will first look in Developer class for `__init__` method, and it's not going to find it within Developer class because it's currently empty. Then Python is going to walk up the chain of inheritance util it finds what it's looking for. This chain is called \"the method resolution order\"."
   ]
  },
  {
   "cell_type": "code",
   "execution_count": null,
   "metadata": {
    "collapsed": true
   },
   "outputs": [],
   "source": []
  }
 ],
 "metadata": {
  "kernelspec": {
   "display_name": "Python 3",
   "language": "python",
   "name": "python3"
  },
  "language_info": {
   "codemirror_mode": {
    "name": "ipython",
    "version": 3
   },
   "file_extension": ".py",
   "mimetype": "text/x-python",
   "name": "python",
   "nbconvert_exporter": "python",
   "pygments_lexer": "ipython3",
   "version": "3.6.3"
  }
 },
 "nbformat": 4,
 "nbformat_minor": 2
}
