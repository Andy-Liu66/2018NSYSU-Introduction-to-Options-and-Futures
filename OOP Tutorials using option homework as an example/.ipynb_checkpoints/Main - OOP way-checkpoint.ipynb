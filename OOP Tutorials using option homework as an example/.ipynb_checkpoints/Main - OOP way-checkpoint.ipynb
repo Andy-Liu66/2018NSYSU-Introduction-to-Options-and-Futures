{
 "cells": [
  {
   "cell_type": "code",
   "execution_count": 1,
   "metadata": {
    "collapsed": true
   },
   "outputs": [],
   "source": [
    "import pandas as pd\n",
    "import numpy as np\n",
    "from scipy.stats import norm\n",
    "import matplotlib.pyplot as plt\n",
    "from mpl_toolkits.mplot3d import Axes3D\n",
    "from matplotlib import cm\n",
    "%matplotlib inline"
   ]
  },
  {
   "cell_type": "markdown",
   "metadata": {},
   "source": [
    "#### Create class"
   ]
  },
  {
   "cell_type": "code",
   "execution_count": 2,
   "metadata": {
    "collapsed": true
   },
   "outputs": [],
   "source": [
    "class Worksheet:\n",
    "    \n",
    "    def __init__(self, data, W, K, Vol, r, T):\n",
    "        self.data = pd.read_csv(data)\n",
    "        self.W = W\n",
    "        self.K = K\n",
    "        self.Vol = Vol\n",
    "        self.r = r\n",
    "        self.T = T\n",
    "\n",
    "        \n",
    "        #Deal with Black Schole\n",
    "        self.data[\"Expiration\"] = pd.Series(range(self.T,  -1, -1)) / 52 #52 weeks == 1 year, create new column for self.data\n",
    "        \n",
    "        Call = np.zeros(len(self.data))\n",
    "        for i in range(len(self.data)):\n",
    "            if self.data.Expiration[i] > 0:\n",
    "                d1 = (np.log(self.data.Weekly_Price[i] / self.K) + (self.r + 0.5 * (self.Vol**2)) * self.data.Expiration[i]) / (self.Vol * np.sqrt(self.data.Expiration[i]))\n",
    "                d2 = d1 - self.Vol * np.sqrt(self.data.Expiration[i])       \n",
    "            else:  \n",
    "                if self.data.Weekly_Price[i] >= self.K:\n",
    "                    d1 = 99999\n",
    "                    d2 = d1 - self.Vol * np.sqrt(self.data.Expiration[i])\n",
    "                else:\n",
    "                    d1 = -99999\n",
    "                    d2 = d1 - self.Vol * np.sqrt(self.data.Expiration[i])\n",
    "            Call[i] = self.data.Weekly_Price[i] * norm.cdf(d1) - np.exp(-self.r * self.data.Expiration[i]) * self.K * norm.cdf(d2)\n",
    "        \n",
    "        self.data[\"Call_Black_Schole\"] = Call\n",
    "        \n",
    "        \n",
    "        #Deal with Delta \n",
    "        Delta = np.zeros(len(self.data))\n",
    "        for i in range(len(self.data)):\n",
    "            if self.data.Expiration[i] > 0:\n",
    "                d1 = (np.log(self.data.Weekly_Price[i] / self.K) + (self.r + 0.5 * (self.Vol**2)) * self.data.Expiration[i]) / (self.Vol * np.sqrt(self.data.Expiration[i]))   \n",
    "            else:   \n",
    "                if self.data.Weekly_Price[i] >= self.K:\n",
    "                    d1 = 99999   \n",
    "                else:\n",
    "                    d1 = -99999\n",
    "            Delta[i] = norm.cdf(d1)\n",
    "    \n",
    "        self.data[\"Delta\"] = Delta\n",
    "\n",
    "        \n",
    "        #Deal with Cost\n",
    "        self.data[\"Share_Netural\"] = self.W * self.data[\"Delta\"]\n",
    "        self.data[\"Share_Purchased\"] = self.data[\"Share_Netural\"].diff(1)\n",
    "        self.data[\"Share_Purchased\"].values[0] = self.data[\"Share_Netural\"][0]\n",
    "        self.data[\"Cost_of_Share\"] = self.data[\"Share_Purchased\"] * self.data[\"Weekly_Price\"]\n",
    "        \n",
    "        self.data[\"Interest_expense\"] = np.zeros(len(self.data))\n",
    "        self.data[\"Cumulative_Cost\"] = np.zeros(len(self.data))\n",
    "        for i in range(len(self.data)):\n",
    "            if i == 0:\n",
    "                self.data.loc[i, \"Cumulative_Cost\"] = self.data.loc[i, \"Cost_of_Share\"]\n",
    "                self.data.loc[i, \"Interest_expense\"] = self.data.loc[i, \"Cumulative_Cost\"] * (self.r * 1/52)\n",
    "            else:\n",
    "                self.data.loc[i, \"Cumulative_Cost\"] = self.data.loc[i-1, \"Cumulative_Cost\"] + self.data.loc[i, \"Cost_of_Share\"] +self.data.loc[i-1, \"Interest_expense\"]\n",
    "                self.data.loc[i, \"Interest_expense\"] = self.data.loc[i, \"Cumulative_Cost\"] * (self.r * 1/52)\n",
    "                \n",
    "                \n",
    "        #Deal with Profit\n",
    "        self.Call_Price = self.data[\"Call_Black_Schole\"][0]\n",
    "        self.Total_Income = (self.Call_Price * self.W * (1 + (self.r * self.T / 52)))\n",
    "        \n",
    "        if (self.data.Weekly_Price[len(self.data) - 1]) >= self.K:\n",
    "            self.Total_Cost = self.data.Cumulative_Cost[len(self.data) - 1] - (self.K * self.W)\n",
    "        else:\n",
    "            self.Total_Cost = self.data.Cumulative_Cost[len(self.data) - 1]\n",
    "        self.Profit = self.Total_Income - self.Total_Cost"
   ]
  },
  {
   "cell_type": "markdown",
   "metadata": {},
   "source": [
    "#### Calculate profit"
   ]
  },
  {
   "cell_type": "code",
   "execution_count": 3,
   "metadata": {},
   "outputs": [
    {
     "name": "stdout",
     "output_type": "stream",
     "text": [
      "Wall time: 32.7 s\n"
     ]
    }
   ],
   "source": [
    "%%time\n",
    "\n",
    "#Initial parameters\n",
    "W = 1000000\n",
    "r = 0.01035\n",
    "T = 20\n",
    "data = \"Weekly_Price.csv\"\n",
    "\n",
    "#Create table to calculate different profit according to different K, Vol given initial parameters\n",
    "K_Vol = pd.DataFrame()\n",
    "for K in np.arange(30, 50.5, 0.5):\n",
    "    for Vol in np.arange(0.05, 1.05, 0.05):\n",
    "        K_Vol_temp = pd.DataFrame([K, Vol])\n",
    "        K_Vol = pd.concat([K_Vol, K_Vol_temp], axis = 1)\n",
    "        \n",
    "K_Vol = K_Vol.T\n",
    "K_Vol.columns = [\"K\", \"Vol\"]\n",
    "\n",
    "#Using apply method, send K, Vol into class Worksheet then return profit according to different K, Vol\n",
    "K_Vol[\"Profit\"] = K_Vol.apply(lambda x : Worksheet(\"Weekly_Price.csv\", W, x[\"K\"], x[\"Vol\"], r, T).Profit, axis = 1)"
   ]
  },
  {
   "cell_type": "markdown",
   "metadata": {},
   "source": [
    "It only took 32 seconds to calaculate 820 outcomes in OOP way, but it took almost 22 minutes in a normal way(without OOP). However, I am not pretty sure whether the shortness of time taken is due to OOP or not."
   ]
  },
  {
   "cell_type": "markdown",
   "metadata": {},
   "source": [
    "**To be continued...**\n",
    "\n",
    "1. How to calculate profit according to different K, Vol by using the function built inside the class, instead of calculating it by using apply method above. ex. input range of K, Vol, and return profit of it.\n",
    "\n",
    "2. How to build plotting function inside the class, instead of plotting outside of the class.\n",
    "\n",
    "3. How to use multiprocessing to speed up calculation process, I had tried a lot of code underneath, but still failed to success. If succeed, still need to think how to write this method into the class."
   ]
  },
  {
   "cell_type": "markdown",
   "metadata": {},
   "source": [
    "*Failed code of Multiprocessing:*"
   ]
  },
  {
   "cell_type": "code",
   "execution_count": 4,
   "metadata": {
    "collapsed": true
   },
   "outputs": [],
   "source": [
    "# import time\n",
    "# from concurrent.futures import ProcessPoolExecutor\n",
    "# from multiprocessing import cpu_count\n",
    "\n",
    "# def calculate_profit(input_values):\n",
    "#     K, Vol = input_values\n",
    "#     return Worksheet(\"Weekly_Price.csv\", W, K, Vol, r, T).Profit\n",
    "\n",
    "# start = time.time()\n",
    "\n",
    "# if __name__ == \"__main__\":\n",
    "#     pool = ProcessPoolExecutor(max_workers=cpu_count())\n",
    "#     results = list(pool.map(calculate_profit, K_Vol.values))\n",
    "#     end = time.time()\n",
    "#     print('Took %.3f secondes'%(end-start))"
   ]
  },
  {
   "cell_type": "code",
   "execution_count": 5,
   "metadata": {
    "collapsed": true
   },
   "outputs": [],
   "source": [
    "# %%time\n",
    "# from multiprocessing import cpu_count, Pool\n",
    "# cores = cpu_count() \n",
    "# partitions = cores - 1\n",
    "\n",
    "# def parallelize(data, func):\n",
    "#     data_split = np.array_split(data, partitions)\n",
    "#     pool = Pool(cores)\n",
    "#     data = pd.concat(pool.map(func, data_split))\n",
    "#     pool.close()\n",
    "#     pool.join()\n",
    "#     return data\n",
    "\n",
    "# def calculate_profit(input_values):\n",
    "#     K, Vol = input_values\n",
    "#     return Worksheet(\"Weekly_Price.csv\", W, K, Vol, r, T).Profit\n",
    "\n",
    "# if __name__ == \"__main__\":\n",
    "#     Final_Profit = parallelize(K_Vol.values, calculate_profit)"
   ]
  }
 ],
 "metadata": {
  "kernelspec": {
   "display_name": "Python 3",
   "language": "python",
   "name": "python3"
  },
  "language_info": {
   "codemirror_mode": {
    "name": "ipython",
    "version": 3
   },
   "file_extension": ".py",
   "mimetype": "text/x-python",
   "name": "python",
   "nbconvert_exporter": "python",
   "pygments_lexer": "ipython3",
   "version": "3.6.3"
  }
 },
 "nbformat": 4,
 "nbformat_minor": 2
}
